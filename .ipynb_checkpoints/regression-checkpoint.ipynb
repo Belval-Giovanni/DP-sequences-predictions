{
 "cells": [
  {
   "cell_type": "markdown",
   "id": "cb10787b",
   "metadata": {},
   "source": [
    "Importation des packages important"
   ]
  },
  {
   "cell_type": "code",
   "execution_count": 1,
   "id": "ba1da652",
   "metadata": {},
   "outputs": [
    {
     "name": "stderr",
     "output_type": "stream",
     "text": [
      "Using TensorFlow backend.\n"
     ]
    }
   ],
   "source": [
    "import numpy as np\n",
    "import pandas as pd\n",
    "import matplotlib.pyplot as plt\n",
    "import keras\n",
    "from keras.models import Sequential\n",
    "from keras.layers import Dense"
   ]
  },
  {
   "cell_type": "markdown",
   "id": "7fe4897d",
   "metadata": {},
   "source": [
    "importation du dataset :"
   ]
  },
  {
   "cell_type": "code",
   "execution_count": 2,
   "id": "6813ff70",
   "metadata": {},
   "outputs": [],
   "source": [
    "# nous allons créez le dataset\n",
    "dataset = []\n",
    "for i in range(1000):\n",
    "    x = list(range(i,i+5))\n",
    "    dataset.append(x)\n",
    "    \n",
    "dataset = np.array(dataset)"
   ]
  },
  {
   "cell_type": "code",
   "execution_count": 3,
   "id": "9bb465ef",
   "metadata": {},
   "outputs": [
    {
     "data": {
      "text/plain": [
       "array([[ 0,  1,  2,  3,  4],\n",
       "       [ 1,  2,  3,  4,  5],\n",
       "       [ 2,  3,  4,  5,  6],\n",
       "       [ 3,  4,  5,  6,  7],\n",
       "       [ 4,  5,  6,  7,  8],\n",
       "       [ 5,  6,  7,  8,  9],\n",
       "       [ 6,  7,  8,  9, 10],\n",
       "       [ 7,  8,  9, 10, 11],\n",
       "       [ 8,  9, 10, 11, 12],\n",
       "       [ 9, 10, 11, 12, 13]])"
      ]
     },
     "execution_count": 3,
     "metadata": {},
     "output_type": "execute_result"
    }
   ],
   "source": [
    "dataset[:10,:]"
   ]
  },
  {
   "cell_type": "markdown",
   "id": "cefa65f8",
   "metadata": {},
   "source": [
    "séparation des features et des targets"
   ]
  },
  {
   "cell_type": "code",
   "execution_count": 4,
   "id": "3f7255ee",
   "metadata": {},
   "outputs": [],
   "source": [
    "X = dataset[:,:-1]\n",
    "y = dataset[:,-1]"
   ]
  },
  {
   "cell_type": "code",
   "execution_count": 5,
   "id": "1c067f4d",
   "metadata": {},
   "outputs": [],
   "source": [
    "from sklearn.model_selection import train_test_split\n",
    "\n",
    "X_train, X_test , y_train , y_test = train_test_split(X,y)"
   ]
  },
  {
   "cell_type": "code",
   "execution_count": 6,
   "id": "a1d4f2d8",
   "metadata": {},
   "outputs": [
    {
     "data": {
      "text/plain": [
       "array([[413, 414, 415, 416],\n",
       "       [975, 976, 977, 978],\n",
       "       [162, 163, 164, 165],\n",
       "       [653, 654, 655, 656],\n",
       "       [405, 406, 407, 408],\n",
       "       [921, 922, 923, 924],\n",
       "       [749, 750, 751, 752],\n",
       "       [690, 691, 692, 693],\n",
       "       [417, 418, 419, 420],\n",
       "       [119, 120, 121, 122]])"
      ]
     },
     "execution_count": 6,
     "metadata": {},
     "output_type": "execute_result"
    }
   ],
   "source": [
    "X_train[:10,:]"
   ]
  },
  {
   "cell_type": "code",
   "execution_count": 7,
   "id": "589e6b81",
   "metadata": {},
   "outputs": [
    {
     "data": {
      "text/plain": [
       "array([417, 979, 166, 657, 409, 925, 753, 694, 421, 123])"
      ]
     },
     "execution_count": 7,
     "metadata": {},
     "output_type": "execute_result"
    }
   ],
   "source": [
    "y_train[:10]"
   ]
  },
  {
   "cell_type": "markdown",
   "id": "9baf5a00",
   "metadata": {},
   "source": [
    "Creation du reseaux de neurones"
   ]
  },
  {
   "cell_type": "code",
   "execution_count": 17,
   "id": "e13f5eaf",
   "metadata": {},
   "outputs": [],
   "source": [
    "rn = Sequential()\n",
    "\n",
    "rn.add(Dense(units=4 , activation = \"relu\" , kernel_initializer=\"uniform\" , input_shape = X[0].shape))\n",
    "rn.add(Dense(units = 4 , activation = \"relu\" , kernel_initializer=\"uniform\"))\n",
    "rn.add(Dense(units=1 , kernel_initializer=\"uniform\" , activation = \"relu\"))"
   ]
  },
  {
   "cell_type": "markdown",
   "id": "ee167276",
   "metadata": {},
   "source": [
    "compilation et entrainement du réseaux de neurones ( rn )"
   ]
  },
  {
   "cell_type": "code",
   "execution_count": 18,
   "id": "67a247ae",
   "metadata": {},
   "outputs": [],
   "source": [
    "rn.compile(optimizer=\"adam\",loss=\"mse\", metrics=[\"accuracy\"])"
   ]
  },
  {
   "cell_type": "code",
   "execution_count": 19,
   "id": "7faac8d4",
   "metadata": {},
   "outputs": [
    {
     "name": "stdout",
     "output_type": "stream",
     "text": [
      "Epoch 1/100\n",
      "750/750 [==============================] - 1s 1ms/step - loss: 152128.8689 - accuracy: 0.0067\n",
      "Epoch 2/100\n",
      "750/750 [==============================] - 1s 755us/step - loss: 0.7963 - accuracy: 0.3733\n",
      "Epoch 3/100\n",
      "750/750 [==============================] - 1s 760us/step - loss: 0.7959 - accuracy: 0.3653\n",
      "Epoch 4/100\n",
      "750/750 [==============================] - 1s 761us/step - loss: 0.7906 - accuracy: 0.3653\n",
      "Epoch 5/100\n",
      "750/750 [==============================] - 1s 760us/step - loss: 0.7909 - accuracy: 0.3680\n",
      "Epoch 6/100\n",
      "750/750 [==============================] - 1s 757us/step - loss: 0.7784 - accuracy: 0.3720\n",
      "Epoch 7/100\n",
      "750/750 [==============================] - 1s 755us/step - loss: 0.7791 - accuracy: 0.3880\n",
      "Epoch 8/100\n",
      "750/750 [==============================] - 1s 828us/step - loss: 0.7616 - accuracy: 0.3867\n",
      "Epoch 9/100\n",
      "750/750 [==============================] - 1s 810us/step - loss: 0.7525 - accuracy: 0.3853\n",
      "Epoch 10/100\n",
      "750/750 [==============================] - 1s 796us/step - loss: 0.7473 - accuracy: 0.3707\n",
      "Epoch 11/100\n",
      "750/750 [==============================] - 1s 762us/step - loss: 0.7213 - accuracy: 0.4107\n",
      "Epoch 12/100\n",
      "750/750 [==============================] - 1s 802us/step - loss: 0.7192 - accuracy: 0.3960\n",
      "Epoch 13/100\n",
      "750/750 [==============================] - 1s 846us/step - loss: 0.6883 - accuracy: 0.4000\n",
      "Epoch 14/100\n",
      "750/750 [==============================] - 1s 790us/step - loss: 0.6535 - accuracy: 0.3987\n",
      "Epoch 15/100\n",
      "750/750 [==============================] - 1s 772us/step - loss: 0.6191 - accuracy: 0.4227\n",
      "Epoch 16/100\n",
      "750/750 [==============================] - 1s 790us/step - loss: 0.6217 - accuracy: 0.4067\n",
      "Epoch 17/100\n",
      "750/750 [==============================] - 1s 780us/step - loss: 0.5838 - accuracy: 0.4013\n",
      "Epoch 18/100\n",
      "750/750 [==============================] - 1s 783us/step - loss: 0.5739 - accuracy: 0.4107\n",
      "Epoch 19/100\n",
      "750/750 [==============================] - 1s 777us/step - loss: 0.5068 - accuracy: 0.4173\n",
      "Epoch 20/100\n",
      "750/750 [==============================] - 1s 789us/step - loss: 0.4351 - accuracy: 0.4427\n",
      "Epoch 21/100\n",
      "750/750 [==============================] - 1s 788us/step - loss: 0.4510 - accuracy: 0.4533\n",
      "Epoch 22/100\n",
      "750/750 [==============================] - 1s 776us/step - loss: 0.4205 - accuracy: 0.4640\n",
      "Epoch 23/100\n",
      "750/750 [==============================] - 1s 787us/step - loss: 0.2888 - accuracy: 0.5320\n",
      "Epoch 24/100\n",
      "750/750 [==============================] - 1s 780us/step - loss: 0.5020 - accuracy: 0.5053\n",
      "Epoch 25/100\n",
      "750/750 [==============================] - 1s 785us/step - loss: 0.3804 - accuracy: 0.5880\n",
      "Epoch 26/100\n",
      "750/750 [==============================] - 1s 786us/step - loss: 0.1522 - accuracy: 0.8120\n",
      "Epoch 27/100\n",
      "750/750 [==============================] - 1s 775us/step - loss: 1.9949 - accuracy: 0.6747\n",
      "Epoch 28/100\n",
      "750/750 [==============================] - 1s 827us/step - loss: 0.3184 - accuracy: 0.8307\n",
      "Epoch 29/100\n",
      "750/750 [==============================] - 1s 930us/step - loss: 0.1052 - accuracy: 0.9213\n",
      "Epoch 30/100\n",
      "750/750 [==============================] - 1s 849us/step - loss: 0.1099 - accuracy: 0.9120\n",
      "Epoch 31/100\n",
      "750/750 [==============================] - 1s 818us/step - loss: 0.2203 - accuracy: 0.8840\n",
      "Epoch 32/100\n",
      "750/750 [==============================] - 1s 829us/step - loss: 1.4105 - accuracy: 0.7573\n",
      "Epoch 33/100\n",
      "750/750 [==============================] - 1s 878us/step - loss: 0.0041 - accuracy: 1.0000\n",
      "Epoch 34/100\n",
      "750/750 [==============================] - 1s 870us/step - loss: 0.0662 - accuracy: 0.9387\n",
      "Epoch 35/100\n",
      "750/750 [==============================] - 1s 839us/step - loss: 0.0874 - accuracy: 0.9307\n",
      "Epoch 36/100\n",
      "750/750 [==============================] - 1s 846us/step - loss: 2.9729 - accuracy: 0.8120\n",
      "Epoch 37/100\n",
      "750/750 [==============================] - 1s 789us/step - loss: 5.6282e-04 - accuracy: 1.0000\n",
      "Epoch 38/100\n",
      "750/750 [==============================] - 1s 800us/step - loss: 0.0011 - accuracy: 1.0000\n",
      "Epoch 39/100\n",
      "750/750 [==============================] - 1s 798us/step - loss: 0.0124 - accuracy: 0.9933\n",
      "Epoch 40/100\n",
      "750/750 [==============================] - 1s 795us/step - loss: 0.0982 - accuracy: 0.9227\n",
      "Epoch 41/100\n",
      "750/750 [==============================] - 1s 785us/step - loss: 0.3348 - accuracy: 0.8947\n",
      "Epoch 42/100\n",
      "750/750 [==============================] - 1s 784us/step - loss: 0.2848 - accuracy: 0.8213\n",
      "Epoch 43/100\n",
      "750/750 [==============================] - 1s 785us/step - loss: 0.0030 - accuracy: 1.0000\n",
      "Epoch 44/100\n",
      "750/750 [==============================] - 1s 785us/step - loss: 1.2344 - accuracy: 0.7733\n",
      "Epoch 45/100\n",
      "750/750 [==============================] - 1s 782us/step - loss: 0.4557 - accuracy: 0.8147\n",
      "Epoch 46/100\n",
      "750/750 [==============================] - 1s 776us/step - loss: 5.8923e-05 - accuracy: 1.0000\n",
      "Epoch 47/100\n",
      "750/750 [==============================] - 1s 790us/step - loss: 1.1434e-04 - accuracy: 1.0000\n",
      "Epoch 48/100\n",
      "750/750 [==============================] - 1s 788us/step - loss: 1.1816e-04 - accuracy: 1.0000\n",
      "Epoch 49/100\n",
      "750/750 [==============================] - 1s 791us/step - loss: 3.2624 - accuracy: 0.7427\n",
      "Epoch 50/100\n",
      "750/750 [==============================] - 1s 785us/step - loss: 0.0780 - accuracy: 0.9573\n",
      "Epoch 51/100\n",
      "750/750 [==============================] - 1s 794us/step - loss: 5.8700e-04 - accuracy: 1.0000\n",
      "Epoch 52/100\n",
      "750/750 [==============================] - 1s 841us/step - loss: 3.0001e-04 - accuracy: 1.0000\n",
      "Epoch 53/100\n",
      "750/750 [==============================] - 1s 817us/step - loss: 2.6285e-04 - accuracy: 1.0000\n",
      "Epoch 54/100\n",
      "750/750 [==============================] - 1s 808us/step - loss: 2.0005 - accuracy: 0.7053\n",
      "Epoch 55/100\n",
      "750/750 [==============================] - 1s 849us/step - loss: 0.0310 - accuracy: 0.9787\n",
      "Epoch 56/100\n",
      "750/750 [==============================] - 1s 850us/step - loss: 8.4845e-04 - accuracy: 1.0000\n",
      "Epoch 57/100\n",
      "750/750 [==============================] - 1s 807us/step - loss: 5.2109e-04 - accuracy: 1.0000\n",
      "Epoch 58/100\n",
      "750/750 [==============================] - 1s 799us/step - loss: 7.8187e-04 - accuracy: 1.0000\n",
      "Epoch 59/100\n",
      "750/750 [==============================] - 1s 806us/step - loss: 0.6093 - accuracy: 0.8440\n",
      "Epoch 60/100\n",
      "750/750 [==============================] - 1s 792us/step - loss: 2.6346e-04 - accuracy: 1.0000\n",
      "Epoch 61/100\n",
      "750/750 [==============================] - 1s 790us/step - loss: 2.7640 - accuracy: 0.7427\n",
      "Epoch 62/100\n",
      "750/750 [==============================] - 1s 797us/step - loss: 0.0135 - accuracy: 0.9840\n",
      "Epoch 63/100\n",
      "750/750 [==============================] - 1s 816us/step - loss: 4.1826e-04 - accuracy: 1.0000\n",
      "Epoch 64/100\n",
      "750/750 [==============================] - 1s 835us/step - loss: 0.0014 - accuracy: 1.0000\n",
      "Epoch 65/100\n",
      "750/750 [==============================] - 1s 821us/step - loss: 0.0011 - accuracy: 1.0000\n",
      "Epoch 66/100\n",
      "750/750 [==============================] - 1s 795us/step - loss: 0.0068 - accuracy: 0.9947\n",
      "Epoch 67/100\n",
      "750/750 [==============================] - 1s 795us/step - loss: 0.7464 - accuracy: 0.7547\n",
      "Epoch 68/100\n",
      "750/750 [==============================] - 1s 791us/step - loss: 8.9350e-05 - accuracy: 1.0000\n",
      "Epoch 69/100\n",
      "750/750 [==============================] - 1s 803us/step - loss: 2.9706e-04 - accuracy: 1.0000\n",
      "Epoch 70/100\n",
      "750/750 [==============================] - 1s 790us/step - loss: 2.7262 - accuracy: 0.7133\n",
      "Epoch 71/100\n",
      "750/750 [==============================] - 1s 792us/step - loss: 7.8338e-05 - accuracy: 1.0000\n",
      "Epoch 72/100\n",
      "750/750 [==============================] - 1s 794us/step - loss: 2.3525e-06 - accuracy: 1.0000\n",
      "Epoch 73/100\n",
      "750/750 [==============================] - 1s 799us/step - loss: 1.3835e-05 - accuracy: 1.0000\n",
      "Epoch 74/100\n",
      "750/750 [==============================] - 1s 794us/step - loss: 6.6780e-06 - accuracy: 1.0000\n",
      "Epoch 75/100\n",
      "750/750 [==============================] - 1s 801us/step - loss: 1.5326e-04 - accuracy: 1.0000\n",
      "Epoch 76/100\n",
      "750/750 [==============================] - 1s 799us/step - loss: 7.0722 - accuracy: 0.7667\n",
      "Epoch 77/100\n",
      "750/750 [==============================] - 1s 793us/step - loss: 2.7937e-05 - accuracy: 1.0000\n",
      "Epoch 78/100\n",
      "750/750 [==============================] - 1s 833us/step - loss: 1.7996e-05 - accuracy: 1.0000\n",
      "Epoch 79/100\n"
     ]
    },
    {
     "name": "stdout",
     "output_type": "stream",
     "text": [
      "750/750 [==============================] - 1s 754us/step - loss: 1.5156e-05 - accuracy: 1.0000\n",
      "Epoch 80/100\n",
      "750/750 [==============================] - 1s 745us/step - loss: 2.6328e-05 - accuracy: 1.0000\n",
      "Epoch 81/100\n",
      "750/750 [==============================] - 1s 743us/step - loss: 7.1003e-05 - accuracy: 1.0000\n",
      "Epoch 82/100\n",
      "750/750 [==============================] - 1s 744us/step - loss: 5.7871e-04 - accuracy: 1.0000\n",
      "Epoch 83/100\n",
      "750/750 [==============================] - 1s 751us/step - loss: 3.2459e-05 - accuracy: 1.0000\n",
      "Epoch 84/100\n",
      "750/750 [==============================] - 1s 764us/step - loss: 0.0107 - accuracy: 0.9973\n",
      "Epoch 85/100\n",
      "750/750 [==============================] - 1s 747us/step - loss: 3.1440 - accuracy: 0.7747\n",
      "Epoch 86/100\n",
      "750/750 [==============================] - 1s 746us/step - loss: 0.7566 - accuracy: 0.8480\n",
      "Epoch 87/100\n",
      "750/750 [==============================] - 1s 770us/step - loss: 0.0010 - accuracy: 1.0000\n",
      "Epoch 88/100\n",
      "750/750 [==============================] - 1s 781us/step - loss: 8.0736e-04 - accuracy: 1.0000\n",
      "Epoch 89/100\n",
      "750/750 [==============================] - 1s 772us/step - loss: 2.8212e-04 - accuracy: 1.0000\n",
      "Epoch 90/100\n",
      "750/750 [==============================] - 1s 771us/step - loss: 0.0014 - accuracy: 1.0000\n",
      "Epoch 91/100\n",
      "750/750 [==============================] - 1s 768us/step - loss: 0.0165 - accuracy: 0.9800\n",
      "Epoch 92/100\n",
      "750/750 [==============================] - 1s 751us/step - loss: 0.2124 - accuracy: 0.9107\n",
      "Epoch 93/100\n",
      "750/750 [==============================] - 1s 753us/step - loss: 3.7247 - accuracy: 0.7760\n",
      "Epoch 94/100\n",
      "750/750 [==============================] - 1s 747us/step - loss: 3.8753e-05 - accuracy: 1.0000\n",
      "Epoch 95/100\n",
      "750/750 [==============================] - 1s 745us/step - loss: 2.0573e-05 - accuracy: 1.0000\n",
      "Epoch 96/100\n",
      "750/750 [==============================] - 1s 757us/step - loss: 2.1328e-04 - accuracy: 1.0000\n",
      "Epoch 97/100\n",
      "750/750 [==============================] - 1s 750us/step - loss: 3.1042e-04 - accuracy: 1.0000\n",
      "Epoch 98/100\n",
      "750/750 [==============================] - 1s 745us/step - loss: 0.0278 - accuracy: 0.9773\n",
      "Epoch 99/100\n",
      "750/750 [==============================] - 1s 749us/step - loss: 1.9222 - accuracy: 0.6840\n",
      "Epoch 100/100\n",
      "750/750 [==============================] - 1s 745us/step - loss: 0.0202 - accuracy: 0.9853\n"
     ]
    },
    {
     "data": {
      "text/plain": [
       "<keras.callbacks.callbacks.History at 0x7ff15a80c5f8>"
      ]
     },
     "execution_count": 19,
     "metadata": {},
     "output_type": "execute_result"
    }
   ],
   "source": [
    "rn.fit(X_train,y_train,batch_size=2,epochs=100)"
   ]
  },
  {
   "cell_type": "code",
   "execution_count": 20,
   "id": "aa7533e2",
   "metadata": {},
   "outputs": [
    {
     "data": {
      "text/plain": [
       "array([[321.],\n",
       "       [897.],\n",
       "       [315.],\n",
       "       [674.],\n",
       "       [ 60.],\n",
       "       [692.],\n",
       "       [343.],\n",
       "       [374.],\n",
       "       [708.],\n",
       "       [429.]], dtype=float32)"
      ]
     },
     "execution_count": 20,
     "metadata": {},
     "output_type": "execute_result"
    }
   ],
   "source": [
    "np.round(rn.predict(X_test)[:10])"
   ]
  },
  {
   "cell_type": "code",
   "execution_count": 12,
   "id": "4d786303",
   "metadata": {},
   "outputs": [
    {
     "data": {
      "text/plain": [
       "array([321, 897, 315, 674,  60, 692, 343, 374, 708, 429])"
      ]
     },
     "execution_count": 12,
     "metadata": {},
     "output_type": "execute_result"
    }
   ],
   "source": [
    "y_test[:10]"
   ]
  },
  {
   "cell_type": "markdown",
   "id": "8a2388fe",
   "metadata": {},
   "source": [
    "evaluation de l'algo sur le jeu de test"
   ]
  },
  {
   "cell_type": "code",
   "execution_count": 21,
   "id": "f5e52145",
   "metadata": {},
   "outputs": [],
   "source": [
    "y_pred = np.round(rn.predict(X_test))"
   ]
  },
  {
   "cell_type": "code",
   "execution_count": 30,
   "id": "b1f39ad6",
   "metadata": {},
   "outputs": [],
   "source": [
    "x_ = X_train[:,-1].copy()\n",
    "x__ = X_test[:,-1].copy()"
   ]
  },
  {
   "cell_type": "markdown",
   "id": "5cc248ad",
   "metadata": {},
   "source": [
    "Nous allons affichez un graphique de notre prediction , en abcisse nous avons le dernier chiffre dans un features (c'est le seul chiffre necessaire car la cible est ce chiffre +1) , et en ordonnée on affiche la valeur de la cible."
   ]
  },
  {
   "cell_type": "code",
   "execution_count": 31,
   "id": "6b360574",
   "metadata": {},
   "outputs": [
    {
     "data": {
      "image/png": "[encoded data removed]",
      "text/plain": [
       "<Figure size 432x288 with 1 Axes>"
      ]
     },
     "metadata": {
      "needs_background": "light"
     },
     "output_type": "display_data"
    }
   ],
   "source": [
    "plt.scatter(x_,y_train,color=\"blue\",label = \"dataset\")\n",
    "plt.scatter(x__,y_test,color = \"red\" , label = \"prediction\")\n",
    "plt.legend()\n",
    "plt.show()"
   ]
  }
 ],
 "metadata": {
  "kernelspec": {
   "display_name": "Python 3",
   "language": "python",
   "name": "python3"
  },
  "language_info": {
   "codemirror_mode": {
    "name": "ipython",
    "version": 3
   },
   "file_extension": ".py",
   "mimetype": "text/x-python",
   "name": "python",
   "nbconvert_exporter": "python",
   "pygments_lexer": "ipython3",
   "version": "3.6.13"
  },
  "varInspector": {
   "cols": {
    "lenName": 16,
    "lenType": 16,
    "lenVar": 40
   },
   "kernels_config": {
    "python": {
     "delete_cmd_postfix": "",
     "delete_cmd_prefix": "del ",
     "library": "var_list.py",
     "varRefreshCmd": "print(var_dic_list())"
    },
    "r": {
     "delete_cmd_postfix": ") ",
     "delete_cmd_prefix": "rm(",
     "library": "var_list.r",
     "varRefreshCmd": "cat(var_dic_list()) "
    }
   },
   "types_to_exclude": [
    "module",
    "function",
    "builtin_function_or_method",
    "instance",
    "_Feature"
   ],
   "window_display": false
  }
 },
 "nbformat": 4,
 "nbformat_minor": 5
}
